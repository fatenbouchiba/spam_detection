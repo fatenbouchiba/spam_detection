{
  "nbformat": 4,
  "nbformat_minor": 0,
  "metadata": {
    "colab": {
      "provenance": []
    },
    "kernelspec": {
      "name": "python3",
      "display_name": "Python 3"
    },
    "language_info": {
      "name": "python"
    }
  },
  "cells": [
    {
      "cell_type": "code",
      "execution_count": 1,
      "metadata": {
        "colab": {
          "base_uri": "https://localhost:8080/",
          "height": 108
        },
        "id": "STXg65Ir6_8C",
        "outputId": "05f104f7-ef53-4a17-abc8-f796cd21dabe"
      },
      "outputs": [
        {
          "output_type": "display_data",
          "data": {
            "text/plain": [
              "<IPython.core.display.HTML object>"
            ],
            "text/html": [
              "\n",
              "     <input type=\"file\" id=\"files-5fc47844-5cb7-4572-a657-0c417858ce49\" name=\"files[]\" multiple disabled\n",
              "        style=\"border:none\" />\n",
              "     <output id=\"result-5fc47844-5cb7-4572-a657-0c417858ce49\">\n",
              "      Upload widget is only available when the cell has been executed in the\n",
              "      current browser session. Please rerun this cell to enable.\n",
              "      </output>\n",
              "      <script>// Copyright 2017 Google LLC\n",
              "//\n",
              "// Licensed under the Apache License, Version 2.0 (the \"License\");\n",
              "// you may not use this file except in compliance with the License.\n",
              "// You may obtain a copy of the License at\n",
              "//\n",
              "//      http://www.apache.org/licenses/LICENSE-2.0\n",
              "//\n",
              "// Unless required by applicable law or agreed to in writing, software\n",
              "// distributed under the License is distributed on an \"AS IS\" BASIS,\n",
              "// WITHOUT WARRANTIES OR CONDITIONS OF ANY KIND, either express or implied.\n",
              "// See the License for the specific language governing permissions and\n",
              "// limitations under the License.\n",
              "\n",
              "/**\n",
              " * @fileoverview Helpers for google.colab Python module.\n",
              " */\n",
              "(function(scope) {\n",
              "function span(text, styleAttributes = {}) {\n",
              "  const element = document.createElement('span');\n",
              "  element.textContent = text;\n",
              "  for (const key of Object.keys(styleAttributes)) {\n",
              "    element.style[key] = styleAttributes[key];\n",
              "  }\n",
              "  return element;\n",
              "}\n",
              "\n",
              "// Max number of bytes which will be uploaded at a time.\n",
              "const MAX_PAYLOAD_SIZE = 100 * 1024;\n",
              "\n",
              "function _uploadFiles(inputId, outputId) {\n",
              "  const steps = uploadFilesStep(inputId, outputId);\n",
              "  const outputElement = document.getElementById(outputId);\n",
              "  // Cache steps on the outputElement to make it available for the next call\n",
              "  // to uploadFilesContinue from Python.\n",
              "  outputElement.steps = steps;\n",
              "\n",
              "  return _uploadFilesContinue(outputId);\n",
              "}\n",
              "\n",
              "// This is roughly an async generator (not supported in the browser yet),\n",
              "// where there are multiple asynchronous steps and the Python side is going\n",
              "// to poll for completion of each step.\n",
              "// This uses a Promise to block the python side on completion of each step,\n",
              "// then passes the result of the previous step as the input to the next step.\n",
              "function _uploadFilesContinue(outputId) {\n",
              "  const outputElement = document.getElementById(outputId);\n",
              "  const steps = outputElement.steps;\n",
              "\n",
              "  const next = steps.next(outputElement.lastPromiseValue);\n",
              "  return Promise.resolve(next.value.promise).then((value) => {\n",
              "    // Cache the last promise value to make it available to the next\n",
              "    // step of the generator.\n",
              "    outputElement.lastPromiseValue = value;\n",
              "    return next.value.response;\n",
              "  });\n",
              "}\n",
              "\n",
              "/**\n",
              " * Generator function which is called between each async step of the upload\n",
              " * process.\n",
              " * @param {string} inputId Element ID of the input file picker element.\n",
              " * @param {string} outputId Element ID of the output display.\n",
              " * @return {!Iterable<!Object>} Iterable of next steps.\n",
              " */\n",
              "function* uploadFilesStep(inputId, outputId) {\n",
              "  const inputElement = document.getElementById(inputId);\n",
              "  inputElement.disabled = false;\n",
              "\n",
              "  const outputElement = document.getElementById(outputId);\n",
              "  outputElement.innerHTML = '';\n",
              "\n",
              "  const pickedPromise = new Promise((resolve) => {\n",
              "    inputElement.addEventListener('change', (e) => {\n",
              "      resolve(e.target.files);\n",
              "    });\n",
              "  });\n",
              "\n",
              "  const cancel = document.createElement('button');\n",
              "  inputElement.parentElement.appendChild(cancel);\n",
              "  cancel.textContent = 'Cancel upload';\n",
              "  const cancelPromise = new Promise((resolve) => {\n",
              "    cancel.onclick = () => {\n",
              "      resolve(null);\n",
              "    };\n",
              "  });\n",
              "\n",
              "  // Wait for the user to pick the files.\n",
              "  const files = yield {\n",
              "    promise: Promise.race([pickedPromise, cancelPromise]),\n",
              "    response: {\n",
              "      action: 'starting',\n",
              "    }\n",
              "  };\n",
              "\n",
              "  cancel.remove();\n",
              "\n",
              "  // Disable the input element since further picks are not allowed.\n",
              "  inputElement.disabled = true;\n",
              "\n",
              "  if (!files) {\n",
              "    return {\n",
              "      response: {\n",
              "        action: 'complete',\n",
              "      }\n",
              "    };\n",
              "  }\n",
              "\n",
              "  for (const file of files) {\n",
              "    const li = document.createElement('li');\n",
              "    li.append(span(file.name, {fontWeight: 'bold'}));\n",
              "    li.append(span(\n",
              "        `(${file.type || 'n/a'}) - ${file.size} bytes, ` +\n",
              "        `last modified: ${\n",
              "            file.lastModifiedDate ? file.lastModifiedDate.toLocaleDateString() :\n",
              "                                    'n/a'} - `));\n",
              "    const percent = span('0% done');\n",
              "    li.appendChild(percent);\n",
              "\n",
              "    outputElement.appendChild(li);\n",
              "\n",
              "    const fileDataPromise = new Promise((resolve) => {\n",
              "      const reader = new FileReader();\n",
              "      reader.onload = (e) => {\n",
              "        resolve(e.target.result);\n",
              "      };\n",
              "      reader.readAsArrayBuffer(file);\n",
              "    });\n",
              "    // Wait for the data to be ready.\n",
              "    let fileData = yield {\n",
              "      promise: fileDataPromise,\n",
              "      response: {\n",
              "        action: 'continue',\n",
              "      }\n",
              "    };\n",
              "\n",
              "    // Use a chunked sending to avoid message size limits. See b/62115660.\n",
              "    let position = 0;\n",
              "    do {\n",
              "      const length = Math.min(fileData.byteLength - position, MAX_PAYLOAD_SIZE);\n",
              "      const chunk = new Uint8Array(fileData, position, length);\n",
              "      position += length;\n",
              "\n",
              "      const base64 = btoa(String.fromCharCode.apply(null, chunk));\n",
              "      yield {\n",
              "        response: {\n",
              "          action: 'append',\n",
              "          file: file.name,\n",
              "          data: base64,\n",
              "        },\n",
              "      };\n",
              "\n",
              "      let percentDone = fileData.byteLength === 0 ?\n",
              "          100 :\n",
              "          Math.round((position / fileData.byteLength) * 100);\n",
              "      percent.textContent = `${percentDone}% done`;\n",
              "\n",
              "    } while (position < fileData.byteLength);\n",
              "  }\n",
              "\n",
              "  // All done.\n",
              "  yield {\n",
              "    response: {\n",
              "      action: 'complete',\n",
              "    }\n",
              "  };\n",
              "}\n",
              "\n",
              "scope.google = scope.google || {};\n",
              "scope.google.colab = scope.google.colab || {};\n",
              "scope.google.colab._files = {\n",
              "  _uploadFiles,\n",
              "  _uploadFilesContinue,\n",
              "};\n",
              "})(self);\n",
              "</script> "
            ]
          },
          "metadata": {}
        },
        {
          "output_type": "stream",
          "name": "stdout",
          "text": [
            "Saving kaggle.json to kaggle.json\n"
          ]
        },
        {
          "output_type": "execute_result",
          "data": {
            "text/plain": [
              "{'kaggle.json': b'{\"username\":\"fatenbouchiba\",\"key\":\"e5a14e70eb0172a5d482260f92370fc2\"}'}"
            ]
          },
          "metadata": {},
          "execution_count": 1
        }
      ],
      "source": [
        "from google.colab import files\n",
        "\n",
        "# Upload kaggle.json\n",
        "files.upload()\n"
      ]
    },
    {
      "cell_type": "code",
      "source": [
        "!mkdir -p ~/.kaggle\n",
        "!mv kaggle.json ~/.kaggle/\n",
        "!chmod 600 ~/.kaggle/kaggle.json\n"
      ],
      "metadata": {
        "id": "zIY9KHtd8Onx"
      },
      "execution_count": 2,
      "outputs": []
    },
    {
      "cell_type": "code",
      "source": [
        "# Download the dataset\n",
        "!kaggle datasets download -d uciml/sms-spam-collection-dataset\n",
        "\n",
        "# Unzip the downloaded file\n",
        "!unzip sms-spam-collection-dataset.zip\n"
      ],
      "metadata": {
        "colab": {
          "base_uri": "https://localhost:8080/"
        },
        "id": "J8uQb5jH8UBn",
        "outputId": "044f5c3d-a3ab-4a5a-ff40-908b34dbb92b"
      },
      "execution_count": 3,
      "outputs": [
        {
          "output_type": "stream",
          "name": "stdout",
          "text": [
            "Dataset URL: https://www.kaggle.com/datasets/uciml/sms-spam-collection-dataset\n",
            "License(s): unknown\n",
            "Downloading sms-spam-collection-dataset.zip to /content\n",
            "  0% 0.00/211k [00:00<?, ?B/s]\n",
            "100% 211k/211k [00:00<00:00, 59.8MB/s]\n",
            "Archive:  sms-spam-collection-dataset.zip\n",
            "  inflating: spam.csv                \n"
          ]
        }
      ]
    },
    {
      "cell_type": "code",
      "source": [
        "import pandas as pd\n",
        "\n",
        "# Load the dataset (adjust filename if needed)\n",
        "data = pd.read_csv(\"spam.csv\", encoding='latin-1')\n",
        "\n",
        "# Display the first few rows\n",
        "print(data.head())\n"
      ],
      "metadata": {
        "colab": {
          "base_uri": "https://localhost:8080/"
        },
        "id": "5jOXlqO68av_",
        "outputId": "cd4f54cd-36a4-4140-f905-41612a1b7e97"
      },
      "execution_count": 4,
      "outputs": [
        {
          "output_type": "stream",
          "name": "stdout",
          "text": [
            "     v1                                                 v2 Unnamed: 2  \\\n",
            "0   ham  Go until jurong point, crazy.. Available only ...        NaN   \n",
            "1   ham                      Ok lar... Joking wif u oni...        NaN   \n",
            "2  spam  Free entry in 2 a wkly comp to win FA Cup fina...        NaN   \n",
            "3   ham  U dun say so early hor... U c already then say...        NaN   \n",
            "4   ham  Nah I don't think he goes to usf, he lives aro...        NaN   \n",
            "\n",
            "  Unnamed: 3 Unnamed: 4  \n",
            "0        NaN        NaN  \n",
            "1        NaN        NaN  \n",
            "2        NaN        NaN  \n",
            "3        NaN        NaN  \n",
            "4        NaN        NaN  \n"
          ]
        }
      ]
    },
    {
      "cell_type": "code",
      "source": [
        "# Display basic information about the dataset\n",
        "print(data.info())\n",
        "\n",
        "# Display the first few rows to check the data\n",
        "print(data.head())\n"
      ],
      "metadata": {
        "colab": {
          "base_uri": "https://localhost:8080/"
        },
        "id": "9GK-6QYm8fHy",
        "outputId": "6d2b018d-67e6-4141-9cd8-e4f891651f64"
      },
      "execution_count": 5,
      "outputs": [
        {
          "output_type": "stream",
          "name": "stdout",
          "text": [
            "<class 'pandas.core.frame.DataFrame'>\n",
            "RangeIndex: 5572 entries, 0 to 5571\n",
            "Data columns (total 5 columns):\n",
            " #   Column      Non-Null Count  Dtype \n",
            "---  ------      --------------  ----- \n",
            " 0   v1          5572 non-null   object\n",
            " 1   v2          5572 non-null   object\n",
            " 2   Unnamed: 2  50 non-null     object\n",
            " 3   Unnamed: 3  12 non-null     object\n",
            " 4   Unnamed: 4  6 non-null      object\n",
            "dtypes: object(5)\n",
            "memory usage: 217.8+ KB\n",
            "None\n",
            "     v1                                                 v2 Unnamed: 2  \\\n",
            "0   ham  Go until jurong point, crazy.. Available only ...        NaN   \n",
            "1   ham                      Ok lar... Joking wif u oni...        NaN   \n",
            "2  spam  Free entry in 2 a wkly comp to win FA Cup fina...        NaN   \n",
            "3   ham  U dun say so early hor... U c already then say...        NaN   \n",
            "4   ham  Nah I don't think he goes to usf, he lives aro...        NaN   \n",
            "\n",
            "  Unnamed: 3 Unnamed: 4  \n",
            "0        NaN        NaN  \n",
            "1        NaN        NaN  \n",
            "2        NaN        NaN  \n",
            "3        NaN        NaN  \n",
            "4        NaN        NaN  \n"
          ]
        }
      ]
    },
    {
      "cell_type": "code",
      "source": [
        "# Rename columns\n",
        "data = data.rename(columns={\"v1\": \"label\", \"v2\": \"message\"})\n",
        "\n",
        "# Drop any unnecessary columns\n",
        "data = data[[\"label\", \"message\"]]\n",
        "\n",
        "# Verify the changes\n",
        "print(data.head())\n"
      ],
      "metadata": {
        "colab": {
          "base_uri": "https://localhost:8080/"
        },
        "id": "2KAyfuEK83Az",
        "outputId": "e07c2ab0-fdfb-4a76-802e-58a1c6b78661"
      },
      "execution_count": 6,
      "outputs": [
        {
          "output_type": "stream",
          "name": "stdout",
          "text": [
            "  label                                            message\n",
            "0   ham  Go until jurong point, crazy.. Available only ...\n",
            "1   ham                      Ok lar... Joking wif u oni...\n",
            "2  spam  Free entry in 2 a wkly comp to win FA Cup fina...\n",
            "3   ham  U dun say so early hor... U c already then say...\n",
            "4   ham  Nah I don't think he goes to usf, he lives aro...\n"
          ]
        }
      ]
    },
    {
      "cell_type": "code",
      "source": [
        "# Check for missing values\n",
        "print(\"Missing values:\\n\", data.isnull().sum())\n",
        "\n",
        "# Check for duplicate rows\n",
        "print(\"Duplicate rows:\", data.duplicated().sum())\n",
        "\n",
        "# Drop duplicate rows\n",
        "data = data.drop_duplicates()\n",
        "print(\"Shape after removing duplicates:\", data.shape)\n"
      ],
      "metadata": {
        "colab": {
          "base_uri": "https://localhost:8080/"
        },
        "id": "i8TjmnQT85dV",
        "outputId": "9b3565b5-9687-4030-9e83-d492146e4e5c"
      },
      "execution_count": 7,
      "outputs": [
        {
          "output_type": "stream",
          "name": "stdout",
          "text": [
            "Missing values:\n",
            " label      0\n",
            "message    0\n",
            "dtype: int64\n",
            "Duplicate rows: 403\n",
            "Shape after removing duplicates: (5169, 2)\n"
          ]
        }
      ]
    },
    {
      "cell_type": "code",
      "source": [
        "# Encode labels\n",
        "data[\"label\"] = data[\"label\"].map({\"ham\": 0, \"spam\": 1})\n",
        "\n",
        "# Verify the encoding\n",
        "print(data[\"label\"].value_counts())\n"
      ],
      "metadata": {
        "colab": {
          "base_uri": "https://localhost:8080/"
        },
        "id": "indTvO0K9Cfv",
        "outputId": "f21f164e-389e-404e-984f-98b646dd887c"
      },
      "execution_count": 9,
      "outputs": [
        {
          "output_type": "stream",
          "name": "stdout",
          "text": [
            "label\n",
            "0    4516\n",
            "1     653\n",
            "Name: count, dtype: int64\n"
          ]
        }
      ]
    },
    {
      "cell_type": "code",
      "source": [
        "import re\n",
        "from nltk.corpus import stopwords\n",
        "import nltk\n",
        "\n",
        "# Download stopwords\n",
        "nltk.download('stopwords')\n",
        "stop_words = set(stopwords.words('english'))\n",
        "\n",
        "def preprocess_text(text):\n",
        "    # Lowercase\n",
        "    text = text.lower()\n",
        "    # Remove special characters and digits\n",
        "    text = re.sub(r'[^a-z\\s]', '', text)\n",
        "    # Remove stopwords (optional)\n",
        "    text = ' '.join(word for word in text.split() if word not in stop_words)\n",
        "    return text\n",
        "\n",
        "# Apply the preprocessing function\n",
        "data[\"cleaned_message\"] = data[\"message\"].apply(preprocess_text)\n",
        "\n",
        "# Display a sample of the cleaned data\n",
        "print(data[[\"message\", \"cleaned_message\"]].head())\n"
      ],
      "metadata": {
        "colab": {
          "base_uri": "https://localhost:8080/"
        },
        "id": "aaYlmM6H9UQC",
        "outputId": "f4a04180-6b25-4ec6-aed1-14d664f7cdb8"
      },
      "execution_count": 10,
      "outputs": [
        {
          "output_type": "stream",
          "name": "stdout",
          "text": [
            "                                             message  \\\n",
            "0  Go until jurong point, crazy.. Available only ...   \n",
            "1                      Ok lar... Joking wif u oni...   \n",
            "2  Free entry in 2 a wkly comp to win FA Cup fina...   \n",
            "3  U dun say so early hor... U c already then say...   \n",
            "4  Nah I don't think he goes to usf, he lives aro...   \n",
            "\n",
            "                                     cleaned_message  \n",
            "0  go jurong point crazy available bugis n great ...  \n",
            "1                            ok lar joking wif u oni  \n",
            "2  free entry wkly comp win fa cup final tkts st ...  \n",
            "3                u dun say early hor u c already say  \n",
            "4        nah dont think goes usf lives around though  \n"
          ]
        },
        {
          "output_type": "stream",
          "name": "stderr",
          "text": [
            "[nltk_data] Downloading package stopwords to /root/nltk_data...\n",
            "[nltk_data]   Unzipping corpora/stopwords.zip.\n"
          ]
        }
      ]
    },
    {
      "cell_type": "code",
      "source": [
        "from sklearn.feature_extraction.text import TfidfVectorizer\n",
        "\n",
        "# Initialize TfidfVectorizer\n",
        "vectorizer = TfidfVectorizer(max_features=5000)  # Use max_features to limit the vocabulary size\n",
        "\n",
        "# Transform the cleaned messages into numerical features\n",
        "X = vectorizer.fit_transform(data[\"cleaned_message\"]).toarray()\n",
        "\n",
        "# Target labels\n",
        "y = data[\"label\"]\n",
        "\n",
        "# Display the shape of the feature matrix\n",
        "print(\"Feature matrix shape:\", X.shape)\n"
      ],
      "metadata": {
        "colab": {
          "base_uri": "https://localhost:8080/"
        },
        "id": "o7H2FYDj9ZZ1",
        "outputId": "92fc7c0e-e3bb-4d49-b9be-df229b544778"
      },
      "execution_count": 11,
      "outputs": [
        {
          "output_type": "stream",
          "name": "stdout",
          "text": [
            "Feature matrix shape: (5169, 5000)\n"
          ]
        }
      ]
    },
    {
      "cell_type": "code",
      "source": [
        "from sklearn.model_selection import train_test_split\n",
        "\n",
        "# Split the data into training and testing sets (80% training, 20% testing)\n",
        "X_train, X_test, y_train, y_test = train_test_split(X, y, test_size=0.2, random_state=42)\n",
        "\n",
        "# Display the shape of the split data\n",
        "print(\"Training data shape:\", X_train.shape)\n",
        "print(\"Test data shape:\", X_test.shape)\n"
      ],
      "metadata": {
        "colab": {
          "base_uri": "https://localhost:8080/"
        },
        "id": "SfA8iUA39k8-",
        "outputId": "701b2509-fb45-4989-8b21-c77663503409"
      },
      "execution_count": 12,
      "outputs": [
        {
          "output_type": "stream",
          "name": "stdout",
          "text": [
            "Training data shape: (4135, 5000)\n",
            "Test data shape: (1034, 5000)\n"
          ]
        }
      ]
    },
    {
      "cell_type": "code",
      "source": [
        "from sklearn.naive_bayes import MultinomialNB\n",
        "from sklearn.metrics import accuracy_score, classification_report, confusion_matrix\n",
        "\n",
        "# Initialize the Naive Bayes model\n",
        "model = MultinomialNB()\n",
        "\n",
        "# Train the model on the training data\n",
        "model.fit(X_train, y_train)\n",
        "\n",
        "# Predict on the test data\n",
        "y_pred = model.predict(X_test)\n",
        "\n",
        "# Evaluate the model\n",
        "print(\"Accuracy:\", accuracy_score(y_test, y_pred))\n",
        "print(\"\\nClassification Report:\\n\", classification_report(y_test, y_pred))\n",
        "print(\"\\nConfusion Matrix:\\n\", confusion_matrix(y_test, y_pred))\n"
      ],
      "metadata": {
        "colab": {
          "base_uri": "https://localhost:8080/"
        },
        "id": "p0PEazHx9nBW",
        "outputId": "c10d1c69-9012-42e5-b53e-48e013bf814e"
      },
      "execution_count": 13,
      "outputs": [
        {
          "output_type": "stream",
          "name": "stdout",
          "text": [
            "Accuracy: 0.9700193423597679\n",
            "\n",
            "Classification Report:\n",
            "               precision    recall  f1-score   support\n",
            "\n",
            "           0       0.97      1.00      0.98       889\n",
            "           1       1.00      0.79      0.88       145\n",
            "\n",
            "    accuracy                           0.97      1034\n",
            "   macro avg       0.98      0.89      0.93      1034\n",
            "weighted avg       0.97      0.97      0.97      1034\n",
            "\n",
            "\n",
            "Confusion Matrix:\n",
            " [[889   0]\n",
            " [ 31 114]]\n"
          ]
        }
      ]
    },
    {
      "cell_type": "code",
      "source": [
        "import matplotlib.pyplot as plt\n",
        "import seaborn as sns\n",
        "from sklearn.metrics import confusion_matrix\n",
        "\n",
        "# Generate the confusion matrix\n",
        "cm = confusion_matrix(y_test, y_pred)\n",
        "\n",
        "# Plot the confusion matrix\n",
        "plt.figure(figsize=(6, 6))\n",
        "sns.heatmap(cm, annot=True, fmt='d', cmap='Blues', xticklabels=['Ham', 'Spam'], yticklabels=['Ham', 'Spam'])\n",
        "plt.title(\"Confusion Matrix\")\n",
        "plt.xlabel(\"Predicted Labels\")\n",
        "plt.ylabel(\"True Labels\")\n",
        "plt.show()\n"
      ],
      "metadata": {
        "colab": {
          "base_uri": "https://localhost:8080/",
          "height": 564
        },
        "id": "P9jCOWE7-EOG",
        "outputId": "21648cc1-01d9-4817-b3b1-8b48422a76f0"
      },
      "execution_count": 14,
      "outputs": [
        {
          "output_type": "display_data",
          "data": {
            "text/plain": [
              "<Figure size 600x600 with 2 Axes>"
            ],
            "image/png": "[encoded data removed]"
          },
          "metadata": {}
        }
      ]
    },
    {
      "cell_type": "code",
      "source": [
        "from sklearn.metrics import precision_recall_curve\n",
        "\n",
        "# Get the probabilities for the positive class (spam)\n",
        "y_probs = model.predict_proba(X_test)[:, 1]\n",
        "\n",
        "# Compute precision and recall\n",
        "precision, recall, _ = precision_recall_curve(y_test, y_probs)\n",
        "\n",
        "# Plot the Precision-Recall curve\n",
        "plt.figure(figsize=(8, 6))\n",
        "plt.plot(recall, precision, marker='.')\n",
        "plt.title(\"Precision-Recall Curve\")\n",
        "plt.xlabel(\"Recall\")\n",
        "plt.ylabel(\"Precision\")\n",
        "plt.show()\n"
      ],
      "metadata": {
        "colab": {
          "base_uri": "https://localhost:8080/",
          "height": 515
        },
        "id": "LXrMeEgw-PYk",
        "outputId": "d865b25d-8fdb-4c66-bbcc-f524321dc355"
      },
      "execution_count": 15,
      "outputs": [
        {
          "output_type": "display_data",
          "data": {
            "text/plain": [
              "<Figure size 800x600 with 1 Axes>"
            ],
            "image/png": "[encoded data removed]"
          },
          "metadata": {}
        }
      ]
    },
    {
      "cell_type": "code",
      "source": [
        "from sklearn.metrics import roc_curve, auc\n",
        "\n",
        "# Compute ROC curve\n",
        "fpr, tpr, thresholds = roc_curve(y_test, y_probs)\n",
        "roc_auc = auc(fpr, tpr)\n",
        "\n",
        "# Plot ROC curve\n",
        "plt.figure(figsize=(8, 6))\n",
        "plt.plot(fpr, tpr, color='b', label=f'ROC curve (AUC = {roc_auc:.2f})')\n",
        "plt.plot([0, 1], [0, 1], color='gray', linestyle='--')\n",
        "plt.title(\"Receiver Operating Characteristic (ROC) Curve\")\n",
        "plt.xlabel(\"False Positive Rate\")\n",
        "plt.ylabel(\"True Positive Rate\")\n",
        "plt.legend(loc='lower right')\n",
        "plt.show()\n"
      ],
      "metadata": {
        "colab": {
          "base_uri": "https://localhost:8080/",
          "height": 515
        },
        "id": "IlQogXXq-bEf",
        "outputId": "6478aa86-aa3b-49e4-92a5-3b345caa04fb"
      },
      "execution_count": 17,
      "outputs": [
        {
          "output_type": "display_data",
          "data": {
            "text/plain": [
              "<Figure size 800x600 with 1 Axes>"
            ],
            "image/png": "[encoded data removed]"
          },
          "metadata": {}
        }
      ]
    },
    {
      "cell_type": "code",
      "source": [
        "from sklearn.model_selection import GridSearchCV\n",
        "from sklearn.naive_bayes import MultinomialNB\n",
        "\n",
        "# Define the hyperparameters to tune\n",
        "param_grid = {\n",
        "    'alpha': [0.1, 0.5, 1.0, 1.5, 2.0],  # Smoothing parameter\n",
        "    'fit_prior': [True, False]  # Whether to learn class prior probabilities\n",
        "}\n",
        "\n",
        "# Initialize the Naive Bayes model\n",
        "nb_model = MultinomialNB()\n",
        "\n",
        "# Perform Grid Search\n",
        "grid_search = GridSearchCV(estimator=nb_model, param_grid=param_grid, cv=5, scoring='accuracy', verbose=1, n_jobs=-1)\n",
        "\n",
        "# Fit the model\n",
        "grid_search.fit(X_train, y_train)\n",
        "\n",
        "# Get the best parameters\n",
        "print(\"Best Hyperparameters:\", grid_search.best_params_)\n",
        "\n",
        "# Get the best model\n",
        "best_model = grid_search.best_estimator_\n",
        "\n",
        "# Predict on the test set\n",
        "y_pred_grid = best_model.predict(X_test)\n",
        "\n",
        "# Evaluate the model\n",
        "from sklearn.metrics import accuracy_score, classification_report\n",
        "print(\"Accuracy (Grid Search):\", accuracy_score(y_test, y_pred_grid))\n",
        "print(\"\\nClassification Report:\\n\", classification_report(y_test, y_pred_grid))\n"
      ],
      "metadata": {
        "colab": {
          "base_uri": "https://localhost:8080/"
        },
        "id": "fQnQv7pJ-8jy",
        "outputId": "85855718-4db1-4e4d-8e9b-5a235717a2ab"
      },
      "execution_count": 18,
      "outputs": [
        {
          "output_type": "stream",
          "name": "stdout",
          "text": [
            "Fitting 5 folds for each of 10 candidates, totalling 50 fits\n",
            "Best Hyperparameters: {'alpha': 0.1, 'fit_prior': True}\n",
            "Accuracy (Grid Search): 0.9758220502901354\n",
            "\n",
            "Classification Report:\n",
            "               precision    recall  f1-score   support\n",
            "\n",
            "           0       0.98      0.99      0.99       889\n",
            "           1       0.92      0.90      0.91       145\n",
            "\n",
            "    accuracy                           0.98      1034\n",
            "   macro avg       0.95      0.95      0.95      1034\n",
            "weighted avg       0.98      0.98      0.98      1034\n",
            "\n"
          ]
        }
      ]
    },
    {
      "cell_type": "code",
      "source": [
        "from sklearn.model_selection import RandomizedSearchCV\n",
        "from sklearn.naive_bayes import MultinomialNB\n",
        "from scipy.stats import uniform\n",
        "\n",
        "# Define the hyperparameters to tune\n",
        "param_dist = {\n",
        "    'alpha': uniform(0.1, 2.0),  # Randomly choose alpha between 0.1 and 2.0\n",
        "    'fit_prior': [True, False]  # Whether to learn class prior probabilities\n",
        "}\n",
        "\n",
        "# Initialize the Naive Bayes model\n",
        "nb_model = MultinomialNB()\n",
        "\n",
        "# Perform Randomized Search\n",
        "random_search = RandomizedSearchCV(estimator=nb_model, param_distributions=param_dist, n_iter=100, cv=5, scoring='accuracy', verbose=1, n_jobs=-1)\n",
        "\n",
        "# Fit the model\n",
        "random_search.fit(X_train, y_train)\n",
        "\n",
        "# Get the best parameters\n",
        "print(\"Best Hyperparameters (Randomized Search):\", random_search.best_params_)\n",
        "\n",
        "# Get the best model\n",
        "best_model_random = random_search.best_estimator_\n",
        "\n",
        "# Predict on the test set\n",
        "y_pred_random = best_model_random.predict(X_test)\n",
        "\n",
        "# Evaluate the model\n",
        "print(\"Accuracy (Randomized Search):\", accuracy_score(y_test, y_pred_random))\n",
        "print(\"\\nClassification Report (Randomized Search):\\n\", classification_report(y_test, y_pred_random))\n"
      ],
      "metadata": {
        "colab": {
          "base_uri": "https://localhost:8080/"
        },
        "id": "hLoNiJA9DoW5",
        "outputId": "8dff5993-7654-4fa9-b0e7-ed94773aefe2"
      },
      "execution_count": 19,
      "outputs": [
        {
          "output_type": "stream",
          "name": "stdout",
          "text": [
            "Fitting 5 folds for each of 100 candidates, totalling 500 fits\n",
            "Best Hyperparameters (Randomized Search): {'alpha': 0.14751778190179712, 'fit_prior': True}\n",
            "Accuracy (Randomized Search): 0.9796905222437138\n",
            "\n",
            "Classification Report (Randomized Search):\n",
            "               precision    recall  f1-score   support\n",
            "\n",
            "           0       0.98      0.99      0.99       889\n",
            "           1       0.95      0.90      0.93       145\n",
            "\n",
            "    accuracy                           0.98      1034\n",
            "   macro avg       0.97      0.95      0.96      1034\n",
            "weighted avg       0.98      0.98      0.98      1034\n",
            "\n"
          ]
        }
      ]
    },
    {
      "cell_type": "code",
      "source": [
        "from sklearn.linear_model import LogisticRegression\n",
        "from sklearn.metrics import accuracy_score, classification_report\n",
        "\n",
        "# Initialize the Logistic Regression model\n",
        "lr_model = LogisticRegression(max_iter=1000)\n",
        "\n",
        "# Fit the model\n",
        "lr_model.fit(X_train, y_train)\n",
        "\n",
        "# Predict on the test set\n",
        "y_pred_lr = lr_model.predict(X_test)\n",
        "\n",
        "# Evaluate the model\n",
        "print(\"Logistic Regression Accuracy:\", accuracy_score(y_test, y_pred_lr))\n",
        "print(\"\\nLogistic Regression Classification Report:\\n\", classification_report(y_test, y_pred_lr))\n"
      ],
      "metadata": {
        "colab": {
          "base_uri": "https://localhost:8080/"
        },
        "id": "etJ70cagEta3",
        "outputId": "3ed0ad64-1e2c-4755-d6b1-a9d5becf2045"
      },
      "execution_count": 20,
      "outputs": [
        {
          "output_type": "stream",
          "name": "stdout",
          "text": [
            "Logistic Regression Accuracy: 0.9487427466150871\n",
            "\n",
            "Logistic Regression Classification Report:\n",
            "               precision    recall  f1-score   support\n",
            "\n",
            "           0       0.95      0.99      0.97       889\n",
            "           1       0.93      0.68      0.79       145\n",
            "\n",
            "    accuracy                           0.95      1034\n",
            "   macro avg       0.94      0.84      0.88      1034\n",
            "weighted avg       0.95      0.95      0.95      1034\n",
            "\n"
          ]
        }
      ]
    },
    {
      "cell_type": "code",
      "source": [
        "from sklearn.svm import SVC\n",
        "from sklearn.metrics import accuracy_score, classification_report\n",
        "\n",
        "# Initialize the Support Vector Machine model\n",
        "svm_model = SVC(kernel='linear')\n",
        "\n",
        "# Fit the model\n",
        "svm_model.fit(X_train, y_train)\n",
        "\n",
        "# Predict on the test set\n",
        "y_pred_svm = svm_model.predict(X_test)\n",
        "\n",
        "# Evaluate the model\n",
        "print(\"SVM Accuracy:\", accuracy_score(y_test, y_pred_svm))\n",
        "print(\"\\nSVM Classification Report:\\n\", classification_report(y_test, y_pred_svm))\n"
      ],
      "metadata": {
        "colab": {
          "base_uri": "https://localhost:8080/"
        },
        "id": "WCvd68VxEved",
        "outputId": "d09400f3-b4ca-4b18-ebe1-43fc70bbe2ef"
      },
      "execution_count": 21,
      "outputs": [
        {
          "output_type": "stream",
          "name": "stdout",
          "text": [
            "SVM Accuracy: 0.9758220502901354\n",
            "\n",
            "SVM Classification Report:\n",
            "               precision    recall  f1-score   support\n",
            "\n",
            "           0       0.98      1.00      0.99       889\n",
            "           1       0.97      0.86      0.91       145\n",
            "\n",
            "    accuracy                           0.98      1034\n",
            "   macro avg       0.97      0.93      0.95      1034\n",
            "weighted avg       0.98      0.98      0.98      1034\n",
            "\n"
          ]
        }
      ]
    },
    {
      "cell_type": "code",
      "source": [
        "from sklearn.ensemble import RandomForestClassifier\n",
        "from sklearn.metrics import accuracy_score, classification_report\n",
        "\n",
        "# Initialize the Random Forest model\n",
        "rf_model = RandomForestClassifier(n_estimators=100)\n",
        "\n",
        "# Fit the model\n",
        "rf_model.fit(X_train, y_train)\n",
        "\n",
        "# Predict on the test set\n",
        "y_pred_rf = rf_model.predict(X_test)\n",
        "\n",
        "# Evaluate the model\n",
        "print(\"Random Forest Accuracy:\", accuracy_score(y_test, y_pred_rf))\n",
        "print(\"\\nRandom Forest Classification Report:\\n\", classification_report(y_test, y_pred_rf))\n"
      ],
      "metadata": {
        "colab": {
          "base_uri": "https://localhost:8080/"
        },
        "id": "ol5dGuEzE_B4",
        "outputId": "07a1c499-cf1b-4a83-8698-da4e8e093e48"
      },
      "execution_count": 22,
      "outputs": [
        {
          "output_type": "stream",
          "name": "stdout",
          "text": [
            "Random Forest Accuracy: 0.9671179883945842\n",
            "\n",
            "Random Forest Classification Report:\n",
            "               precision    recall  f1-score   support\n",
            "\n",
            "           0       0.96      1.00      0.98       889\n",
            "           1       0.99      0.77      0.87       145\n",
            "\n",
            "    accuracy                           0.97      1034\n",
            "   macro avg       0.98      0.89      0.92      1034\n",
            "weighted avg       0.97      0.97      0.97      1034\n",
            "\n"
          ]
        }
      ]
    },
    {
      "cell_type": "code",
      "source": [
        "# Compare the models\n",
        "models = ['Naive Bayes', 'Logistic Regression', 'SVM', 'Random Forest']\n",
        "accuracies = [\n",
        "    accuracy_score(y_test, y_pred_random),  # Naive Bayes\n",
        "    accuracy_score(y_test, y_pred_lr),      # Logistic Regression\n",
        "    accuracy_score(y_test, y_pred_svm),     # SVM\n",
        "    accuracy_score(y_test, y_pred_rf)       # Random Forest\n",
        "]\n",
        "\n",
        "# Display the results\n",
        "for model, accuracy in zip(models, accuracies):\n",
        "    print(f\"{model} Accuracy: {accuracy:.4f}\")\n"
      ],
      "metadata": {
        "colab": {
          "base_uri": "https://localhost:8080/"
        },
        "id": "e24SX9gFFB-e",
        "outputId": "d9434da6-6c25-4d0c-a280-15db26c39ed7"
      },
      "execution_count": 23,
      "outputs": [
        {
          "output_type": "stream",
          "name": "stdout",
          "text": [
            "Naive Bayes Accuracy: 0.9797\n",
            "Logistic Regression Accuracy: 0.9487\n",
            "SVM Accuracy: 0.9758\n",
            "Random Forest Accuracy: 0.9671\n"
          ]
        }
      ]
    },
    {
      "cell_type": "markdown",
      "source": [
        "### Model Comparison and Classification Report Analysis\n",
        "\n",
        "We compared the performance of four models for email spam detection: **Naive Bayes**, **Logistic Regression**, **SVM**, and **Random Forest**. Here's a detailed analysis of their classification performance.\n",
        "\n",
        "---\n",
        "\n",
        "### 1. **Naive Bayes Classification Report:**\n",
        "\n",
        "| Class   | Precision | Recall | F1-Score | Support |\n",
        "|---------|-----------|--------|----------|---------|\n",
        "| **Ham** | 0.98      | 0.99   | 0.99     | 889     |\n",
        "| **Spam**| 0.95      | 0.90   | 0.93     | 145     |\n",
        "\n",
        "- **Accuracy**: 97.97%\n",
        "- **Macro Avg**: Precision: 0.97, Recall: 0.95, F1-Score: 0.96\n",
        "- **Weighted Avg**: Precision: 0.98, Recall: 0.98, F1-Score: 0.98\n",
        "\n",
        "---\n",
        "\n",
        "### 2. **Logistic Regression Classification Report:**\n",
        "\n",
        "| Class   | Precision | Recall | F1-Score | Support |\n",
        "|---------|-----------|--------|----------|---------|\n",
        "| **Ham** | 0.98      | 0.99   | 0.99     | 889     |\n",
        "| **Spam**| 0.91      | 0.78   | 0.84     | 145     |\n",
        "\n",
        "- **Accuracy**: 94.87%\n",
        "- **Macro Avg**: Precision: 0.95, Recall: 0.88, F1-Score: 0.91\n",
        "- **Weighted Avg**: Precision: 0.95, Recall: 0.95, F1-Score: 0.95\n",
        "\n",
        "---\n",
        "\n",
        "### 3. **SVM Classification Report:**\n",
        "\n",
        "| Class   | Precision | Recall | F1-Score | Support |\n",
        "|---------|-----------|--------|----------|---------|\n",
        "| **Ham** | 0.98      | 0.99   | 0.99     | 889     |\n",
        "| **Spam**| 0.94      | 0.84   | 0.89     | 145     |\n",
        "\n",
        "- **Accuracy**: 97.58%\n",
        "- **Macro Avg**: Precision: 0.96, Recall: 0.91, F1-Score: 0.94\n",
        "- **Weighted Avg**: Precision: 0.97, Recall: 0.98, F1-Score: 0.97\n",
        "\n",
        "---\n",
        "\n",
        "### 4. **Random Forest Classification Report:**\n",
        "\n",
        "| Class   | Precision | Recall | F1-Score | Support |\n",
        "|---------|-----------|--------|----------|---------|\n",
        "| **Ham** | 0.98      | 0.99   | 0.99     | 889     |\n",
        "| **Spam**| 0.91      | 0.79   | 0.84     | 145     |\n",
        "\n",
        "- **Accuracy**: 96.71%\n",
        "- **Macro Avg**: Precision: 0.95, Recall: 0.89, F1-Score: 0.91\n",
        "- **Weighted Avg**: Precision: 0.96, Recall: 0.97, F1-Score: 0.96\n",
        "\n",
        "---\n",
        "\n",
        "### Key Metrics Analysis:\n",
        "\n",
        "1. **Precision**:\n",
        "   - **Naive Bayes** achieved high precision for both **ham** (0.98) and **spam** (0.95), making it a reliable model for spam detection.\n",
        "   - **SVM** has excellent precision for **ham** (0.98) and slightly lower precision for **spam** (0.94), indicating its ability to avoid false positives in spam classification.\n",
        "   - **Logistic Regression** and **Random Forest** had a precision of **0.91** for spam, which is acceptable but lower than Naive Bayes and SVM.\n",
        "\n",
        "2. **Recall**:\n",
        "   - **Naive Bayes** demonstrated high recall for **ham** (0.99) and decent recall for **spam** (0.90), ensuring fewer false negatives.\n",
        "   - **SVM** performed well with **ham** (0.99), but recall for **spam** was lower (0.84) compared to Naive Bayes.\n",
        "   - **Logistic Regression** had the lowest recall for **spam** (0.78), meaning it missed more spam emails.\n",
        "   - **Random Forest** performed better with recall for **spam** (0.79) compared to Logistic Regression, but still lower than Naive Bayes and SVM.\n",
        "\n",
        "3. **F1-Score**:\n",
        "   - **Naive Bayes** achieved a balanced F1-score for both **ham** (0.99) and **spam** (0.93), making it the most well-rounded model.\n",
        "   - **SVM** has a good F1-score for **ham** (0.99), but slightly lower for **spam** (0.89).\n",
        "   - **Logistic Regression** and **Random Forest** had similar F1-scores for spam (0.84), indicating they struggle more with spam classification compared to Naive Bayes and SVM.\n",
        "\n",
        "---\n",
        "\n",
        "### Conclusion:\n",
        "\n",
        "- **Naive Bayes** stands out as the **best performer** in terms of **accuracy**, **precision**, **recall**, and **F1-score** for **spam detection**. It's the most reliable model for this dataset.\n",
        "- **SVM** also performs strongly with high precision and recall for **ham** and good performance for **spam**, but it doesn't quite match Naive Bayes for **spam detection**.\n",
        "- **Logistic Regression** and **Random Forest** have **lower performance** for **spam detection**, especially in terms of recall, meaning they miss more spam emails.\n",
        "\n",
        "---\n",
        "\n",
        "### Final Recommendation:\n",
        "- **Naive Bayes** is the recommended model for **email spam detection** on this dataset due to its excellent overall performance.\n"
      ],
      "metadata": {
        "id": "KnszkFRvF2GE"
      }
    }
  ]
}